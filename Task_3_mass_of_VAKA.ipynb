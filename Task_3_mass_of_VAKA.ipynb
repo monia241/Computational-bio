{
 "cells": [
  {
   "cell_type": "code",
   "execution_count": 1,
   "id": "83f10c4d",
   "metadata": {},
   "outputs": [],
   "source": [
    "#Task 2 \n",
    "#comparing between monowieght of a single peptide and the number of amino acids that make up this peptide\n",
    "#and explain if the summation of them is different or not ?\n"
   ]
  },
  {
   "cell_type": "code",
   "execution_count": 20,
   "id": "69a5b3a6",
   "metadata": {},
   "outputs": [
    {
     "name": "stdout",
     "output_type": "stream",
     "text": [
      "The peptide VAKA consists of the following amino acids:\n",
      "Valine : 117.0789793509\n",
      "Alanine : 89.0476792233\n",
      "Lysine : 146.1055284466\n",
      "Alanine : 89.0476792233\n"
     ]
    }
   ],
   "source": [
    "from pyopenms import *\n",
    "seq = AASequence.fromString(\"VAKA\")\n",
    "\n",
    "print(\"The peptide\", str(seq), \"consists of the following amino acids:\")\n",
    "for aa in seq:\n",
    "    print(aa.getName(), \":\", aa.getMonoWeight())"
   ]
  },
  {
   "cell_type": "code",
   "execution_count": 12,
   "id": "99f5ed43",
   "metadata": {},
   "outputs": [
    {
     "name": "stdout",
     "output_type": "stream",
     "text": [
      "MonoWeight of full sequense without losing h2o  387.2481710527\n"
     ]
    }
   ],
   "source": [
    "from pyopenms import *\n",
    "seq = AASequence.fromString(\"VAKA\")\n",
    "fullofseq=seq.getMonoWeight()\n",
    "print(\"MonoWeight of full sequense without losing h2o \",fullofseq)"
   ]
  },
  {
   "cell_type": "code",
   "execution_count": 19,
   "id": "7ad82785",
   "metadata": {},
   "outputs": [
    {
     "name": "stdout",
     "output_type": "stream",
     "text": [
      "441.27986624410005\n"
     ]
    }
   ],
   "source": [
    "from pyopenms import *\n",
    "seq =AASequence.fromString(\"V\")\n",
    "one=seq.getMonoWeight()\n",
    "seq =AASequence.fromString(\"A\")\n",
    "two=seq.getMonoWeight()\n",
    "seq =AASequence.fromString(\"K\")\n",
    "three=seq.getMonoWeight()\n",
    "seq =AASequence.fromString(\"A\")\n",
    "four=seq.getMonoWeight()\n",
    "print(one+two+three+four)"
   ]
  },
  {
   "cell_type": "code",
   "execution_count": null,
   "id": "f0625aeb",
   "metadata": {},
   "outputs": [],
   "source": [
    "#we see the monoweight of full seq != monoweight of every single amion acids , beacuse of the losing of h2o at the process of isotian "
   ]
  }
 ],
 "metadata": {
  "kernelspec": {
   "display_name": "Python 3 (ipykernel)",
   "language": "python",
   "name": "python3"
  },
  "language_info": {
   "codemirror_mode": {
    "name": "ipython",
    "version": 3
   },
   "file_extension": ".py",
   "mimetype": "text/x-python",
   "name": "python",
   "nbconvert_exporter": "python",
   "pygments_lexer": "ipython3",
   "version": "3.9.12"
  }
 },
 "nbformat": 4,
 "nbformat_minor": 5
}
