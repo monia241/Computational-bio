{
 "cells": [
  {
   "cell_type": "code",
   "execution_count": 3,
   "id": "760b03cb",
   "metadata": {},
   "outputs": [
    {
     "name": "stdout",
     "output_type": "stream",
     "text": [
      "Requirement already satisfied: pyopenms in c:\\users\\tc\\anaconda3\\lib\\site-packages (2.7.0)\n",
      "Requirement already satisfied: numpy in c:\\users\\tc\\anaconda3\\lib\\site-packages (from pyopenms) (1.21.5)\n",
      "Note: you may need to restart the kernel to use updated packages.\n"
     ]
    }
   ],
   "source": [
    "pip install pyopenms"
   ]
  },
  {
   "cell_type": "code",
   "execution_count": 4,
   "id": "8afb62f5",
   "metadata": {},
   "outputs": [],
   "source": [
    "import pyopenms"
   ]
  },
  {
   "cell_type": "code",
   "execution_count": 5,
   "id": "7714e929",
   "metadata": {},
   "outputs": [
    {
     "name": "stdout",
     "output_type": "stream",
     "text": [
      "Help on package pyopenms:\n",
      "\n",
      "NAME\n",
      "    pyopenms - Python bindings to the OpenMS C++ library.\n",
      "\n",
      "DESCRIPTION\n",
      "    The pyOpenMS package contains Python bindings for a large part of the OpenMS\n",
      "    library (http://www.open-ms.de) for mass spectrometry based proteomics. It thus\n",
      "    provides providing facile access to a feature-rich, open-source algorithm\n",
      "    library for mass-spectrometry based proteomics analysis. These Python bindings\n",
      "    allow raw access to the data-structures and algorithms implemented in OpenMS,\n",
      "    specifically those for file access (mzXML, mzML, TraML, mzIdentML among\n",
      "    others), basic signal processing (smoothing, filtering, de-isotoping and\n",
      "    peak-picking) and complex data analysis (including label-free, SILAC, iTRAQ and\n",
      "    SWATH analysis tools).\n",
      "    \n",
      "    For further documentation, please see https://pyopenms.readthedocs.io\n",
      "    \n",
      "    Please cite:\n",
      "    \n",
      "        Röst HL, Schmitt U, Aebersold R, Malmström L.\n",
      "        pyOpenMS: a Python-based interface to the OpenMS mass-spectrometry algorithm library.\n",
      "        Proteomics. 2014 Jan;14(1):74-7. doi: 10.1002/pmic.201300246.\n",
      "\n",
      "PACKAGE CONTENTS\n",
      "    Constants\n",
      "    Plotting\n",
      "    all_modules\n",
      "    docompile\n",
      "    pyopenms_1\n",
      "    pyopenms_2\n",
      "    pyopenms_3\n",
      "    pyopenms_4\n",
      "    pyopenms_5\n",
      "    pyopenms_6\n",
      "    pyopenms_7\n",
      "    pyopenms_8\n",
      "    python_extras\n",
      "    qt_version_info\n",
      "    sysinfo\n",
      "    version\n",
      "\n",
      "SUBMODULES\n",
      "    Plot\n",
      "\n",
      "DATA\n",
      "    print_function = _Feature((2, 6, 0, 'alpha', 2), (3, 0, 0, 'alpha', 0)...\n",
      "\n",
      "VERSION\n",
      "    2.7.0\n",
      "\n",
      "FILE\n",
      "    c:\\users\\tc\\anaconda3\\lib\\site-packages\\pyopenms\\__init__.py\n",
      "\n",
      "\n"
     ]
    }
   ],
   "source": [
    "help(pyopenms)"
   ]
  },
  {
   "cell_type": "code",
   "execution_count": 8,
   "id": "137a0bbb",
   "metadata": {},
   "outputs": [
    {
     "name": "stdout",
     "output_type": "stream",
     "text": [
      "avogadro constant: 6.0221367e+23\n"
     ]
    }
   ],
   "source": [
    "#any library should start with capital letter,\n",
    "#and the attribute of this library should be all capitals.\n",
    "print(\"avogadro constant:\",pyopenms.Constants.AVOGADRO)"
   ]
  },
  {
   "cell_type": "code",
   "execution_count": 9,
   "id": "9919da2f",
   "metadata": {},
   "outputs": [
    {
     "name": "stdout",
     "output_type": "stream",
     "text": [
      "Constants : <module 'pyopenms.Constants' from 'C:\\\\Users\\\\TC\\\\anaconda3\\\\lib\\\\site-packages\\\\pyopenms\\\\Constants.py'>\n"
     ]
    }
   ],
   "source": [
    "print(\"Constants :\",pyopenms.Constants)"
   ]
  },
  {
   "cell_type": "code",
   "execution_count": 12,
   "id": "778ad690",
   "metadata": {},
   "outputs": [
    {
     "data": {
      "text/plain": [
       "True"
      ]
     },
     "execution_count": 12,
     "metadata": {},
     "output_type": "execute_result"
    }
   ],
   "source": [
    "# in openms library it contains names of chem elements and information about them like average and monoisotopic weight.\n",
    "#start to import elementDB(*) from pyopenms\n",
    "from pyopenms import *\n",
    "#give it a name to contain the inf.\n",
    "edb=ElementDB()\n",
    "#hasElement :asks if the letter or name are inside it or not \n",
    "edb.hasElement(\"o\")#false : cuz it uncapital\n",
    "edb.hasElement(\"O\")#True :cuz it capital , be careful for the differencies."
   ]
  },
  {
   "cell_type": "code",
   "execution_count": 18,
   "id": "4001361c",
   "metadata": {},
   "outputs": [
    {
     "name": "stdout",
     "output_type": "stream",
     "text": [
      "Hydrogen\n",
      "H\n",
      "1.0078250319\n",
      "1.0079407537260314\n"
     ]
    }
   ],
   "source": [
    "#let's get some inf about Hydrogen.\n",
    "#getElement : to get the element in a knowen palce for us to do some calculation on it.\n",
    "h = edb.getElement(\"H\")\n",
    "#we can ask the name of element using (getName())\n",
    "print (h.getName())\n",
    "#we can ask the sympol of this element using (getSymbol())...with b for book\n",
    "print (h.getSymbol())\n",
    "#we also can get the mono and average weight using 1)getMonoweight() , 2)get.AverageWeight\n",
    "print (h.getMonoWeight())\n",
    "print (h.getAverageWeight())"
   ]
  },
  {
   "cell_type": "code",
   "execution_count": 21,
   "id": "6cfa596c",
   "metadata": {},
   "outputs": [
    {
     "name": "stdout",
     "output_type": "stream",
     "text": [
      "one mole of hydrogen : 2.015881507452063 grams\n",
      "one mole of hydrogen isotopes: 2.0156500638 grams\n"
     ]
    }
   ],
   "source": [
    "#to calculate one mole of hydrogen \n",
    "print (\"one mole of hydrogen :\",2*h.getAverageWeight(),\"grams\")\n",
    "#to calculate one mole of isotope of hydrogen \n",
    "print(\"one mole of hydrogen isotopes:\",2*h.getMonoWeight(),\"grams\")\n",
    "#one mole of hydrogen (H) weighs slightly more than a mole of only its monoisotopic isotope"
   ]
  },
  {
   "cell_type": "code",
   "execution_count": 25,
   "id": "aae01e10",
   "metadata": {},
   "outputs": [
    {
     "name": "stdout",
     "output_type": "stream",
     "text": [
      "<pyopenms.pyopenms_4.IsotopeDistribution object at 0x000002569C72B3F0>\n"
     ]
    }
   ],
   "source": [
    "#can we get isotopes distrubiution of (H) ? yes ,we can \n",
    "print(h.getIsotopeDistribution())\n"
   ]
  },
  {
   "cell_type": "code",
   "execution_count": 38,
   "id": "35590cb7",
   "metadata": {},
   "outputs": [
    {
     "name": "stdout",
     "output_type": "stream",
     "text": [
      "Oxygen isotope : 15.994915 Oxygen abundance: 99.75699782371521 %\n",
      "Oxygen isotope : 16.999132 Oxygen abundance: 0.03800000122282654 %\n",
      "Oxygen isotope : 17.999169 Oxygen abundance: 0.20500000100582838 %\n",
      "{'mass': [17.999169], 'abundance': [0.20500000100582838]}\n"
     ]
    }
   ],
   "source": [
    "#we can also ispect the full isotopics distribution of oxygen and sulfurs\n",
    "edb=ElementDB()\n",
    "oxy_isodist={\"mass\":[] , \"abundance\":[]}\n",
    "#(whatever=>)iso.getMZ give us the isotope \n",
    "#(whatever=>)iso.getIntensity give us abundance\n",
    "oxygen=edb.getElement(\"O\")\n",
    "isotopes = oxygen.getIsotopeDistribution()\n",
    "for iso in isotopes.getContainer():\n",
    "    print (\"Oxygen isotope :\",iso.getMZ(),\"Oxygen abundance:\",iso.getIntensity()*100,\"%\")\n",
    "#append the result to the oxy_isodist\n",
    "oxy_isodist[\"mass\"].append(iso.getMZ())\n",
    "oxy_isodist[\"abundance\"].append(iso.getIntensity()*100)\n",
    "print(oxy_isodist)"
   ]
  },
  {
   "cell_type": "code",
   "execution_count": 44,
   "id": "a0156693",
   "metadata": {},
   "outputs": [
    {
     "name": "stdout",
     "output_type": "stream",
     "text": [
      "carbon_isotope_distrubtion_diffrenece 1.0033550000000009\n",
      "nitrogen_isotope_distrubtion_diffrenece 0.9970350000000003\n",
      "relative distribution 0.006298867300208343 %\n"
     ]
    }
   ],
   "source": [
    "#While all isotopes are created by adding one or more neutrons to the nucleus,\n",
    "#this leads to different observed masses due to the mass defect,\n",
    "#which describes the difference between the mass of an atom and the mass of its constituent particles. \n",
    "#For example, the mass difference between 12C and 13C is slightly different than the mass difference between 14N and 15N,\n",
    "#even though both only differ by a neutron from their monoisotopic element:\n",
    "edb=ElementDB()\n",
    "isotopes=edb.getElement(\"C\").getIsotopeDistribution().getContainer()\n",
    "carbon_isotope_distrubtion_diffrenece=isotopes[1].getMZ() - isotopes[0].getMZ()\n",
    "print (\"carbon_isotope_distrubtion_diffrenece\",carbon_isotope_distrubtion_diffrenece)\n",
    "############################################\n",
    "isotopes=edb.getElement(\"N\").getIsotopeDistribution().getContainer()\n",
    "nitrogen_isotope_distrubtion_diffrenece=isotopes[1].getMZ()-isotopes[0].getMZ()\n",
    "print (\"nitrogen_isotope_distrubtion_diffrenece\",nitrogen_isotope_distrubtion_diffrenece)\n",
    "print(\"relative distribution\",(carbon_isotope_distrubtion_diffrenece -nitrogen_isotope_distrubtion_diffrenece)/carbon_isotope_distrubtion_diffrenece,\"%\")"
   ]
  },
  {
   "cell_type": "code",
   "execution_count": 57,
   "id": "ed2f2be2",
   "metadata": {},
   "outputs": [
    {
     "name": "stdout",
     "output_type": "stream",
     "text": [
      "Ethanol chemical formula: C2H6O1\n",
      "Ethanol chemical composition: {b'C': 2, b'H': 6, b'O': 1}\n",
      "Ethanol has  6 hydrogen atoms\n"
     ]
    }
   ],
   "source": [
    "#Molecular Formulae\n",
    "#Elements can be combined to molecular formulas (EmpiricalFormula) which can be used to describe molecules such as metabolites, amino acid sequences or oligonucleotides. \n",
    "#The class supports a large number of operations like addition and subtraction.\n",
    "    \n",
    "    \n",
    "methanol = EmpiricalFormula(\"CH3OH\")\n",
    "water = EmpiricalFormula(\"H2O\")\n",
    "ethanol = EmpiricalFormula(\"CH2\") + methanol\n",
    "#get the formula of the chemical element by using the name of element and toString() built in function.\n",
    "print(\"Ethanol chemical formula:\", ethanol.toString())\n",
    "#to get the composition of the formula \n",
    "print (\"Ethanol chemical composition:\",ethanol.getElementalComposition())\n",
    "#to calculat element by element in formula we can use (name of element)getElementalComposition()[b\"the letter we want to calc\"]\n",
    "print(\"Ethanol has \",ethanol.getElementalComposition()[b\"H\"],\"hydrogen atoms\")"
   ]
  },
  {
   "cell_type": "code",
   "execution_count": 65,
   "id": "ca585cfe",
   "metadata": {},
   "outputs": [
    {
     "name": "stdout",
     "output_type": "stream",
     "text": [
      "Lysine\n",
      "Lys\n",
      "K\n",
      "146.18788276708446\n",
      "146.1055284466\n",
      "2.16\n",
      "C6H14N2O2\n"
     ]
    }
   ],
   "source": [
    "#IMINO ACIDS#\n",
    "# An amino acid residue is represented in OpenMS by the class Residue\n",
    "lys=ResidueDB().getResidue(\"Lysine\")\n",
    "print(lys.getName())\n",
    "print(lys.getThreeLetterCode())\n",
    "print(lys.getOneLetterCode())\n",
    "print(lys.getAverageWeight())\n",
    "print(lys.getMonoWeight())\n",
    "print(lys.getPka())\n",
    "print(lys.getFormula().toString())"
   ]
  },
  {
   "cell_type": "code",
   "execution_count": 66,
   "id": "c8053b06",
   "metadata": {},
   "outputs": [
    {
     "name": "stdout",
     "output_type": "stream",
     "text": [
      "UniMod:35\n",
      "35\n",
      "15.994915\n",
      "Oxidation\n",
      "Oxidation (V)\n",
      "Oxidation or Hydroxylation\n",
      "O1\n"
     ]
    }
   ],
   "source": [
    "#An amino acid residue modification is represented in OpenMS by the class ResidueModification\n",
    "#he known modifications are stored in the ModificationsDB object\n",
    "ox = ModificationsDB().getModification(\"Oxidation\")\n",
    "print(ox.getUniModAccession())\n",
    "print(ox.getUniModRecordId())\n",
    "print(ox.getDiffMonoMass())\n",
    "print(ox.getId())\n",
    "print(ox.getFullId())\n",
    "print(ox.getFullName())\n",
    "print(ox.getDiffFormula())"
   ]
  },
  {
   "cell_type": "code",
   "execution_count": 67,
   "id": "9ccbd59a",
   "metadata": {},
   "outputs": [
    {
     "name": "stdout",
     "output_type": "stream",
     "text": [
      "15.994915 : 0.9975699782371521\n",
      "16.998269837800002 : 0.0003800000122282654\n",
      "18.0016246756 : 0.002050000010058284\n"
     ]
    }
   ],
   "source": [
    "isotopes = ox.getDiffFormula().getIsotopeDistribution(CoarseIsotopePatternGenerator(5))\n",
    "for iso in isotopes.getContainer():\n",
    "    print (iso.getMZ(), \":\", iso.getIntensity())"
   ]
  },
  {
   "cell_type": "code",
   "execution_count": 68,
   "id": "596ee946",
   "metadata": {},
   "outputs": [
    {
     "name": "stdout",
     "output_type": "stream",
     "text": [
      "uridine\n",
      "U\n",
      "244.2043\n",
      "244.0695\n",
      "C9H12N2O6\n",
      "False\n",
      "1-methyladenosine\n",
      "True\n"
     ]
    }
   ],
   "source": [
    "#Ribonucleotides#\n",
    "uridine = RibonucleotideDB().getRibonucleotide(b\"U\")\n",
    "print(uridine.getName())\n",
    "print(uridine.getCode())\n",
    "print(uridine.getAvgMass())\n",
    "print(uridine.getMonoMass())\n",
    "print(uridine.getFormula().toString())\n",
    "print(uridine.isModified())\n",
    "methyladenosine = RibonucleotideDB().getRibonucleotide(b\"m1A\")\n",
    "print(methyladenosine.getName())\n",
    "print(methyladenosine.isModified())"
   ]
  },
  {
   "cell_type": "code",
   "execution_count": null,
   "id": "220f8fc2",
   "metadata": {},
   "outputs": [],
   "source": []
  }
 ],
 "metadata": {
  "kernelspec": {
   "display_name": "Python 3 (ipykernel)",
   "language": "python",
   "name": "python3"
  },
  "language_info": {
   "codemirror_mode": {
    "name": "ipython",
    "version": 3
   },
   "file_extension": ".py",
   "mimetype": "text/x-python",
   "name": "python",
   "nbconvert_exporter": "python",
   "pygments_lexer": "ipython3",
   "version": "3.9.12"
  }
 },
 "nbformat": 4,
 "nbformat_minor": 5
}
