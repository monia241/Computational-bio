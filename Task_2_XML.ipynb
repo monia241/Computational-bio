{
 "cells": [
  {
   "cell_type": "code",
   "execution_count": 1,
   "id": "db3ab344",
   "metadata": {},
   "outputs": [
    {
     "name": "stdout",
     "output_type": "stream",
     "text": [
      "<?xml version=\"1.0\" encoding=\"UTF-8\"?>\n",
      "<note>\n",
      "<to>Tove</to>\n",
      "<from>Jani</from>\n",
      "<heading>Reminder</heading>\n",
      "<body>Don't forget me this weekend!</body>\n",
      "</note>\n"
     ]
    }
   ],
   "source": [
    "with open('note.xml') as f:\n",
    "    for line in f:\n",
    "        print(line.strip())"
   ]
  },
  {
   "cell_type": "code",
   "execution_count": 2,
   "id": "c5dade22",
   "metadata": {},
   "outputs": [
    {
     "name": "stdout",
     "output_type": "stream",
     "text": [
      "note\n"
     ]
    }
   ],
   "source": [
    "import xml.etree.ElementTree as ET\n",
    "tree = ET.parse('note.xml')\n",
    "root = tree.getroot()\n",
    "print(root.tag)"
   ]
  },
  {
   "cell_type": "code",
   "execution_count": 3,
   "id": "71571895",
   "metadata": {},
   "outputs": [
    {
     "name": "stdout",
     "output_type": "stream",
     "text": [
      "to {}\n",
      "from {}\n",
      "heading {}\n",
      "body {}\n"
     ]
    }
   ],
   "source": [
    "for child in root:\n",
    "    print(child.tag, child.attrib)"
   ]
  },
  {
   "cell_type": "code",
   "execution_count": 4,
   "id": "12af36b3",
   "metadata": {},
   "outputs": [
    {
     "name": "stdout",
     "output_type": "stream",
     "text": [
      "Tove\n"
     ]
    }
   ],
   "source": [
    "print(root[0].text)"
   ]
  },
  {
   "cell_type": "code",
   "execution_count": 6,
   "id": "38499b59",
   "metadata": {},
   "outputs": [
    {
     "name": "stdout",
     "output_type": "stream",
     "text": [
      "{}\n"
     ]
    }
   ],
   "source": [
    "for title in root.iter('from'):\n",
    "    print(title.attrib)"
   ]
  },
  {
   "cell_type": "code",
   "execution_count": 7,
   "id": "bfe01beb",
   "metadata": {},
   "outputs": [],
   "source": [
    "file=open(\"tet.txt\",\"w\")\n",
    "file.write(\"bbbbbbbbbbbbbbbbb\")\n",
    "file.close()"
   ]
  },
  {
   "cell_type": "code",
   "execution_count": 8,
   "id": "fd9496d7",
   "metadata": {},
   "outputs": [
    {
     "name": "stdout",
     "output_type": "stream",
     "text": [
      "bbbbbbbbbbbbbbbbb\n"
     ]
    }
   ],
   "source": [
    "f = open(\"tet.txt\", \"r\")  \n",
    "\n",
    "print(f.read())  \n",
    "\n",
    "f.close()"
   ]
  },
  {
   "cell_type": "code",
   "execution_count": 9,
   "id": "867fbcd5",
   "metadata": {},
   "outputs": [
    {
     "name": "stdout",
     "output_type": "stream",
     "text": [
      "bbbbbbbbbbbbbbbbb\n"
     ]
    }
   ],
   "source": [
    "f = open(\"tet.txt\", \"r\")  # opening a file\n",
    "\n",
    "print(f.read())   # reading a file\n",
    "\n",
    "f.close()"
   ]
  },
  {
   "cell_type": "code",
   "execution_count": 10,
   "id": "4529f58d",
   "metadata": {},
   "outputs": [],
   "source": [
    "file = open(\"sample.bin\", \"wb\")\n",
    "\n",
    "file.write(b\"sample.bin\")\n",
    "\n",
    "file.close()"
   ]
  },
  {
   "cell_type": "code",
   "execution_count": 11,
   "id": "8a167765",
   "metadata": {},
   "outputs": [
    {
     "name": "stdout",
     "output_type": "stream",
     "text": [
      "b'sample.bin'\n"
     ]
    }
   ],
   "source": [
    "file = open(\"sample.bin\", \"rb\")  \n",
    "\n",
    "print(file.read())\n",
    "\n",
    "file.close()"
   ]
  },
  {
   "cell_type": "code",
   "execution_count": 13,
   "id": "62e3eb60",
   "metadata": {},
   "outputs": [],
   "source": [
    "file=open(\"arr.bin\",\"wb\")\n",
    "num1=[10,44,60,18,10]\n",
    "arr=bytearray(num1)\n",
    "file.write(arr)\n",
    "file.close()"
   ]
  },
  {
   "cell_type": "code",
   "execution_count": 14,
   "id": "0f80e2a5",
   "metadata": {},
   "outputs": [
    {
     "name": "stdout",
     "output_type": "stream",
     "text": [
      "[10, 44, 60, 18, 10]\n"
     ]
    }
   ],
   "source": [
    "f=open(\"arr.bin\",\"rb\")\n",
    "num1=list(f.read())\n",
    "print(num1)\n",
    "f.close()"
   ]
  },
  {
   "cell_type": "code",
   "execution_count": null,
   "id": "21a0b7cd",
   "metadata": {},
   "outputs": [],
   "source": []
  }
 ],
 "metadata": {
  "kernelspec": {
   "display_name": "Python 3 (ipykernel)",
   "language": "python",
   "name": "python3"
  },
  "language_info": {
   "codemirror_mode": {
    "name": "ipython",
    "version": 3
   },
   "file_extension": ".py",
   "mimetype": "text/x-python",
   "name": "python",
   "nbconvert_exporter": "python",
   "pygments_lexer": "ipython3",
   "version": "3.9.12"
  }
 },
 "nbformat": 4,
 "nbformat_minor": 5
}
