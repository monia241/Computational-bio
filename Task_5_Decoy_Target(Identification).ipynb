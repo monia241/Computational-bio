{
 "cells": [
  {
   "cell_type": "code",
   "execution_count": 1,
   "id": "56e220f8",
   "metadata": {},
   "outputs": [],
   "source": [
    "from pyopenms import *\n",
    " \n",
    "protein_id = ProteinIdentification()\n",
    "protein_id.setIdentifier(\"IdentificationRun1\")\n",
    " \n",
    "protein_hit = ProteinHit()\n",
    "protein_hit.setAccession(\"sp|MyAccession\")\n",
    "protein_hit.setSequence(\"PEPTIDERDLQMTQSPSSLSVSVGDRPEPTIDE\")\n",
    "protein_hit.setScore(1.0)\n",
    "protein_hit.setMetaValue(\"target_decoy\", b\"target\")\n",
    "\n",
    "protein_id.setHits([protein_hit])\n"
   ]
  },
  {
   "cell_type": "code",
   "execution_count": 2,
   "id": "752f39ac",
   "metadata": {},
   "outputs": [
    {
     "name": "stdout",
     "output_type": "stream",
     "text": [
      "Protein hit accession: sp|MyAccession\n",
      "Protein hit sequence: PEPTIDERDLQMTQSPSSLSVSVGDRPEPTIDE\n",
      "Protein hit score: 1.0\n"
     ]
    }
   ],
   "source": [
    "now = DateTime.now()\n",
    "date_string = now.getDate()\n",
    "protein_id.setDateTime(now)\n",
    "\n",
    "search_parameters = SearchParameters()\n",
    "search_parameters.db = \"database\"\n",
    "search_parameters.charges = \"+2\"\n",
    "protein_id.setSearchParameters(search_parameters)\n",
    "\n",
    "protein_id.setSearchEngineVersion(\"v1.0.0\")\n",
    "protein_id.setSearchEngine(\"SearchEngine\")\n",
    "protein_id.setScoreType(\"HyperScore\")\n",
    "\n",
    "for hit in protein_id.getHits():\n",
    "  print(\"Protein hit accession:\", hit.getAccession())\n",
    "  print(\"Protein hit sequence:\", hit.getSequence())\n",
    "  print(\"Protein hit score:\", hit.getScore())"
   ]
  },
  {
   "cell_type": "code",
   "execution_count": 3,
   "id": "a247f921",
   "metadata": {},
   "outputs": [],
   "source": [
    "peptide_id = PeptideIdentification()\n",
    "\n",
    "peptide_id.setRT(1243.56)\n",
    "peptide_id.setMZ(440.0)\n",
    "peptide_id.setScoreType(\"ScoreType\")\n",
    "peptide_id.setHigherScoreBetter(False)\n",
    "peptide_id.setIdentifier(\"IdentificationRun1\")\n",
    "\n",
    "peptide_id.setMetaValue(\"AdditionalMetaValue\", \"Value\")\n",
    "\n",
    "peptide_hit = PeptideHit()\n",
    "peptide_hit.setScore(1.0)\n",
    "peptide_hit.setRank(1)\n",
    "peptide_hit.setCharge(2)\n",
    "peptide_hit.setSequence(AASequence.fromString(\"DLQM(Oxidation)TQSPSSLSVSVGDR\"))\n",
    "\n",
    "ev = PeptideEvidence()\n",
    "ev.setProteinAccession(\"sp|MyAccession\")\n",
    "ev.setAABefore(b\"R\")\n",
    "ev.setAAAfter(b\"P\")\n",
    "ev.setStart(123)\n",
    "ev.setEnd(141)\n",
    "peptide_hit.setPeptideEvidences([ev])\n",
    "\n",
    "peptide_hit2 = PeptideHit()\n",
    "peptide_hit2.setScore(0.5)\n",
    "peptide_hit2.setRank(2)\n",
    "peptide_hit2.setCharge(2)\n",
    "peptide_hit2.setSequence(AASequence.fromString(\"QDLMTQSPSSLSVSVGDR\"))\n",
    "peptide_hit2.setPeptideEvidences([ev])\n",
    "\n",
    "peptide_id.setHits([peptide_hit, peptide_hit2])"
   ]
  },
  {
   "cell_type": "code",
   "execution_count": 4,
   "id": "8c5ca56b",
   "metadata": {},
   "outputs": [
    {
     "name": "stdout",
     "output_type": "stream",
     "text": [
      "Peptide ID m/z: 440.0\n",
      "Peptide ID rt: 1243.56\n",
      "Peptide ID score type: ScoreType\n",
      " - Peptide hit rank: 1\n",
      " - Peptide hit sequence: DLQM(Oxidation)TQSPSSLSVSVGDR\n",
      " - Peptide hit score: 1.0\n",
      " - Mapping to proteins: ['sp|MyAccession']\n",
      " - Peptide hit rank: 2\n",
      " - Peptide hit sequence: QDLMTQSPSSLSVSVGDR\n",
      " - Peptide hit score: 0.5\n",
      " - Mapping to proteins: ['sp|MyAccession']\n"
     ]
    }
   ],
   "source": [
    "peptide_ids = [peptide_id]\n",
    "for peptide_id in peptide_ids:\n",
    "  print (\"Peptide ID m/z:\", peptide_id.getMZ())\n",
    "  print (\"Peptide ID rt:\", peptide_id.getRT())\n",
    "  print (\"Peptide ID score type:\", peptide_id.getScoreType())\n",
    "for hit in peptide_id.getHits():\n",
    "    print(\" - Peptide hit rank:\", hit.getRank())\n",
    "    print(\" - Peptide hit sequence:\", hit.getSequence())\n",
    "    print(\" - Peptide hit score:\", hit.getScore())\n",
    "    print(\" - Mapping to proteins:\", [ev.getProteinAccession() for ev in hit.getPeptideEvidences() ] )\n"
   ]
  },
  {
   "cell_type": "code",
   "execution_count": 5,
   "id": "fb77428f",
   "metadata": {},
   "outputs": [
    {
     "name": "stdout",
     "output_type": "stream",
     "text": [
      "Protein hit accession: sp|MyAccession\n",
      "Protein hit sequence: PEPTIDERDLQMTQSPSSLSVSVGDRPEPTIDE\n",
      "Protein hit score: 1.0\n",
      "Protein hit target/decoy: target\n",
      "##################################################\n",
      "\n",
      "Peptide ID m/z: 440.0\n",
      "Peptide ID rt: 1243.56\n",
      "Peptide ID score type: ScoreType\n",
      "##################################################\n",
      "\n",
      " - Peptide hit rank: 0\n",
      " - Peptide hit sequence: QDLMTQSPSSLSVSVGDR\n",
      " - Peptide hit score: 0.5\n",
      " - Mapping to proteins: ['sp|MyAccession']\n",
      " - Peptide hit rank: 0\n",
      " - Peptide hit sequence: DLQM(Oxidation)TQSPSSLSVSVGDR\n",
      " - Peptide hit score: 1.0\n",
      " - Mapping to proteins: ['sp|MyAccession']\n"
     ]
    }
   ],
   "source": [
    "IdXMLFile().store(\"out.idXML\", [protein_id], peptide_ids)\n",
    "\n",
    "prot_ids = []; pep_ids = []\n",
    "IdXMLFile().load(\"out.idXML\", prot_ids, pep_ids)\n",
    "\n",
    "for protein_id in prot_ids:\n",
    "      for hit in protein_id.getHits():\n",
    "        print(\"Protein hit accession:\", hit.getAccession())\n",
    "        print(\"Protein hit sequence:\", hit.getSequence())\n",
    "        print(\"Protein hit score:\", hit.getScore())\n",
    "        print(\"Protein hit target/decoy:\", hit.getMetaValue(\"target_decoy\"))\n",
    "\n",
    "print(50*\"#\")\n",
    "print()\n",
    "for peptide_id in pep_ids:\n",
    "    print(\"Peptide ID m/z:\",peptide_id.getMZ())\n",
    "    print (\"Peptide ID rt:\", peptide_id.getRT())\n",
    "    print (\"Peptide ID score type:\", peptide_id.getScoreType())\n",
    "\n",
    "print(50*\"#\")\n",
    "print()\n",
    "for hit in peptide_id.getHits():\n",
    "    print(\" - Peptide hit rank:\", hit.getRank())\n",
    "    print(\" - Peptide hit sequence:\", hit.getSequence())\n",
    "    print(\" - Peptide hit score:\", hit.getScore())\n",
    "    print(\" - Mapping to proteins:\", [ev.getProteinAccession() for ev in hit.getPeptideEvidences() ] )"
   ]
  },
  {
   "cell_type": "code",
   "execution_count": null,
   "id": "5e27afcb",
   "metadata": {},
   "outputs": [],
   "source": []
  }
 ],
 "metadata": {
  "kernelspec": {
   "display_name": "Python 3 (ipykernel)",
   "language": "python",
   "name": "python3"
  },
  "language_info": {
   "codemirror_mode": {
    "name": "ipython",
    "version": 3
   },
   "file_extension": ".py",
   "mimetype": "text/x-python",
   "name": "python",
   "nbconvert_exporter": "python",
   "pygments_lexer": "ipython3",
   "version": "3.9.12"
  }
 },
 "nbformat": 4,
 "nbformat_minor": 5
}
